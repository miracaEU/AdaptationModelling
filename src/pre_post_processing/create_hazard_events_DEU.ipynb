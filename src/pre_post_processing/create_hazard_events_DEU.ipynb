{
 "cells": [
  {
   "cell_type": "code",
   "execution_count": 1,
   "metadata": {},
   "outputs": [],
   "source": [
    "from pathlib import Path\n",
    "import pandas as pd\n",
    "import geopandas as gpd\n",
    "from shapely.validation import make_valid\n",
    "from tqdm import tqdm"
   ]
  },
  {
   "cell_type": "code",
   "execution_count": null,
   "metadata": {},
   "outputs": [
    {
     "name": "stdout",
     "output_type": "stream",
     "text": [
      "Root: C:\\Data\\Floods\\Germany\\raw_data\\SzenarioSelten\n",
      "File: C:\\Data\\Floods\\Germany\\raw_data\\SzenarioSelten\\DERP_RW_L.shp\n"
     ]
    }
   ],
   "source": [
    "# load flood data and reproject\n",
    "#   set data input Path and flood map name\n",
    "root_dir = Path (\"C:/\",\"Data\",\"Floods\",\"Germany\", \"raw_data\", \"SzenarioSelten\") #specify the path to the folder holding the input data\n",
    "print('Root: ',end='')\n",
    "print(root_dir)\n",
    "_flood_map_name = \"DERP_RW_L.shp\" #set the name for the flood map\n",
    "flood_map=root_dir / _flood_map_name\n",
    "\n",
    "#   set data output name and directory\n",
    "#output_map=root_dir / \"validated_geometries\" / \"DERP_RW_M_4326_subsample_valid_lmu.geojson\"\n",
    "\n",
    "print('File: ',end='')\n",
    "print(flood_map)\n",
    "assert flood_map.is_file()\n",
    "gdf_to_edit=gpd.read_file(flood_map).to_crs(4326)"
   ]
  },
  {
   "cell_type": "code",
   "execution_count": null,
   "metadata": {},
   "outputs": [],
   "source": [
    "# make geometries valid:\n",
    "gdf_to_edit.geometry = gdf_to_edit.apply(lambda row: make_valid(row.geometry) if not row.geometry.is_valid else row.geometry, axis=1)"
   ]
  },
  {
   "cell_type": "code",
   "execution_count": 11,
   "metadata": {},
   "outputs": [],
   "source": [
    "\"\"\"\n",
    "Water depth class descriptions\n",
    "T_class,Description\n",
    "11,Water depth - classic flood area 0–0.5 m\n",
    "12,Water depth - classic flood area > 0.5–1 m\n",
    "13,Water depth - classic flood area > 1–2 m\n",
    "14,Water depth - classic flood area > 2–4 m\n",
    "15,Water depth - classic flood area > 4 m\n",
    "16,Water depth - classic flood area > 0.5–2m (only in certain areas of Saxony)\n",
    "17,Water depth - classic flood area > 2 m (only in certain areas of Saxony)\n",
    "21,Water depth - indicative flood area 0–0.5 m\n",
    "22,Water depth - indicative flood area > 0.5–1 m\n",
    "23,Water depth - indicative flood area > 1–2 m\n",
    "24,Water depth - indicative flood area > 2–4 m\n",
    "25,Water depth - indicative flood area > 4 m\n",
    "31,Water depth - flood-protected flood area 0–0.5 m\n",
    "32,Water depth - flood-protected flood area > 0.5–1 m\n",
    "33,Water depth - flood-protected flood area > 1–2 m\n",
    "34,Water depth - flood-protected flood area > 2–4 m\n",
    "35,Water depth - flood-protected flood area > 4 m\n",
    "\"\"\"\n",
    "#   define dictionary to relate water depth classes to water depths\n",
    "#TODO discuss way to establish depth\n",
    "w_depth_dict_lower={\n",
    "    '1':0.0,\n",
    "    '2':0.5,\n",
    "    '3':1.0,\n",
    "    '4':2.0,\n",
    "    '5':4.0,\n",
    "    '6':0.5, #only in areas of Saxony\n",
    "    '7':2.0 #only in areas of Saxony\n",
    "}\n",
    "w_depth_dict_mid={\n",
    "    '1':0.25,\n",
    "    '2':0.75,\n",
    "    '3':1.5,\n",
    "    '4':3.0,\n",
    "    '5':4.0,\n",
    "    '6':1.25, #only in areas of Saxony\n",
    "    '7':2.0 #only in areas of Saxony\n",
    "}\n",
    "w_depth_dict_upper={\n",
    "    '1':0.5,\n",
    "    '2':1.0,\n",
    "    '3':2.0,\n",
    "    '4':4.0,\n",
    "    '5':4.0,\n",
    "    '6':2.0, #only in areas of Saxony\n",
    "    '7':2.0 #only in areas of Saxony\n",
    "}"
   ]
  },
  {
   "cell_type": "code",
   "execution_count": 17,
   "metadata": {},
   "outputs": [],
   "source": [
    "wdepth_class=[]\n",
    "wdepth_l=[]\n",
    "wdepth_m=[]\n",
    "wdepth_u=[]\n",
    "farea=[]\n",
    "\n",
    "for i in range(len(gdf_to_edit)):\n",
    "    farea.append(int(str(gdf_to_edit['T_class'][i])[0]))\n",
    "    wdepth_class.append(int(str(gdf_to_edit['T_class'][i])[-1]))\n",
    "    wdepth_l.append(float(w_depth_dict_lower[str(gdf_to_edit['T_class'][i])[-1]]))\n",
    "    wdepth_m.append(float(w_depth_dict_mid[str(gdf_to_edit['T_class'][i])[-1]]))\n",
    "    wdepth_u.append(float(w_depth_dict_upper[str(gdf_to_edit['T_class'][i])[-1]]))\n",
    "\n",
    "gdf = gdf_to_edit.assign(w_depth_l=wdepth_l,w_depth_m=wdepth_m,w_depth_u=wdepth_u, depth_class=wdepth_class, flood_area=farea)\n"
   ]
  },
  {
   "cell_type": "code",
   "execution_count": 18,
   "metadata": {},
   "outputs": [],
   "source": [
    "output_map = Path (\"C:/\",\"Data\",\"Floods\",\"Germany\", \"interim_data\", \"DERP_RW_L_4326_valid_lmu.geojson\")\n",
    "gdf.to_file(output_map)"
   ]
  },
  {
   "cell_type": "code",
   "execution_count": 3,
   "metadata": {},
   "outputs": [],
   "source": [
    "# make basin geometries valid\n",
    "\n",
    "basins_path=\"C:/Data/Floods/basins/hybas_eu_lev01-12_v1c/hybas_eu_lev08_v1c.shp\"\n",
    "basins_path_valid=\"C:/Data/Floods/basins/hybas_eu_lev01-12_v1c/hybas_eu_lev08_v1c_valid.shp\"\n",
    "basins=gpd.read_file(basins_path)\n",
    "basins.geometry = basins.apply(lambda row: make_valid(row.geometry) if not row.geometry.is_valid else row.geometry, axis=1)\n",
    "basins.to_file(basins_path_valid)\n"
   ]
  },
  {
   "cell_type": "markdown",
   "metadata": {},
   "source": [
    "Intersect basins with flood map"
   ]
  },
  {
   "cell_type": "code",
   "execution_count": 2,
   "metadata": {},
   "outputs": [],
   "source": [
    "import os\n",
    "from qgis.core import QgsApplication\n",
    "\n",
    "# Set the path to the QGIS installation\n",
    "qgis_path = r'C:\\Users\\peregrin\\AppData\\Local\\anaconda3\\envs\\qgis_env\\Library\\bin\\qgis.exe'\n",
    "\n",
    "# Set the environment variables for QGIS\n",
    "os.environ['QT_QPA_PLATFORM_PLUGIN_PATH'] = os.path.join(qgis_path, 'apps', 'Qt5', 'plugins', 'platforms')\n",
    "os.environ['PATH'] += os.pathsep + os.path.join(qgis_path, 'apps', 'qgis', 'bin')\n",
    "os.environ['PYTHONPATH'] += os.pathsep + os.path.join(qgis_path, 'apps', 'qgis', 'python')\n",
    "os.environ['LD_LIBRARY_PATH'] = os.path.join(qgis_path, 'apps', 'qgis', 'lib')\n",
    "\n",
    "# Initialize QGIS application\n",
    "QgsApplication.setPrefixPath(qgis_path, True)\n",
    "qgs = QgsApplication([], False)\n",
    "qgs.initQgis()\n",
    "\n",
    "# Now you can use QGIS processing tools\n",
    "from qgis.analysis import QgsNativeAlgorithms\n",
    "QgsApplication.processingRegistry().addProvider(QgsNativeAlgorithms())\n",
    "\n",
    "import processing\n",
    "# intersect basin polygons with flood map\n",
    "processing.run(\"native:intersection\", {'INPUT':'C:/Data/Floods/Germany/interim_data/DERP_RW_H_4326_valid_lmu.geojson','OVERLAY':'C:/Data/Floods/basins/hybas_eu_lev01-12_v1c/hybas_eu_lev08_v1c_valid.shp','INPUT_FIELDS':['flood_area','depth_class','w_depth_l', 'w_depth_m', 'w_depth_u'],'OVERLAY_FIELDS':['HYBAS_ID','NEXT_DOWN','NEXT_SINK','MAIN_BAS','DIST_SINK','DIST_MAIN','SUB_AREA','UP_AREA','PFAF_ID','ORDER'],'OVERLAY_FIELDS_PREFIX':'','OUTPUT':'C:/Data/Floods/Germany/basin_intersections/DERP_RW_H_4326_hybas_intersections.geojson','GRID_SIZE':None})\n",
    "\n",
    "# exit QGIS application\n",
    "qgs.exitQgis()\n"
   ]
  },
  {
   "cell_type": "markdown",
   "metadata": {},
   "source": [
    "Save basin intersections into separate files"
   ]
  },
  {
   "cell_type": "code",
   "execution_count": 2,
   "metadata": {},
   "outputs": [
    {
     "name": "stdout",
     "output_type": "stream",
     "text": [
      "Root: C:\\Data\\Floods\\Germany\\basin_intersections\n",
      "['C:\\\\Data\\\\Floods\\\\Germany\\\\basin_intersections\\\\DERP_RW_H_4326_hybas_intersections.geojson', 'C:\\\\Data\\\\Floods\\\\Germany\\\\basin_intersections\\\\DERP_RW_L_4326_hybas_intersections.geojson', 'C:\\\\Data\\\\Floods\\\\Germany\\\\basin_intersections\\\\DERP_RW_M_4326_hybas_intersections.geojson']\n"
     ]
    }
   ],
   "source": [
    "import glob\n",
    "#   set data input Path and flood map name \n",
    "root_dir = Path (\"C:/\",\"Data\",\"Floods\",\"Germany\", \"basin_intersections\") #specify the path to the folder holding the input data\n",
    "\n",
    "print('Root: ',end='')\n",
    "print(root_dir)\n",
    "\n",
    "# Find all .geojson and .shp files in the root directory\n",
    "file_list = glob.glob(str(root_dir / '*.geojson')) + glob.glob(str(root_dir / '*.shp'))\n",
    "\n",
    "# Print the list of files\n",
    "print(file_list)\n",
    "\n"
   ]
  },
  {
   "cell_type": "code",
   "execution_count": 3,
   "metadata": {},
   "outputs": [
    {
     "name": "stdout",
     "output_type": "stream",
     "text": [
      "File 1/3: C:\\Data\\Floods\\Germany\\basin_intersections\\DERP_RW_H_4326_hybas_intersections.geojson\n"
     ]
    },
    {
     "name": "stderr",
     "output_type": "stream",
     "text": [
      "100%|██████████| 61/61 [3:01:25<00:00, 178.45s/it]   \n"
     ]
    },
    {
     "name": "stdout",
     "output_type": "stream",
     "text": [
      "File 2/3: C:\\Data\\Floods\\Germany\\basin_intersections\\DERP_RW_L_4326_hybas_intersections.geojson\n"
     ]
    },
    {
     "name": "stderr",
     "output_type": "stream",
     "text": [
      "100%|██████████| 61/61 [06:53<00:00,  6.79s/it]\n"
     ]
    },
    {
     "name": "stdout",
     "output_type": "stream",
     "text": [
      "File 3/3: C:\\Data\\Floods\\Germany\\basin_intersections\\DERP_RW_M_4326_hybas_intersections.geojson\n"
     ]
    },
    {
     "name": "stderr",
     "output_type": "stream",
     "text": [
      "100%|██████████| 61/61 [06:09<00:00,  6.06s/it]\n"
     ]
    }
   ],
   "source": [
    "def split_by_hybas_id(gdf, flood_map, output_map_dir):\n",
    "    _flood_map = flood_map.split('\\\\')[-1].split('_hybas_')[0]\n",
    "    # Iterate over unique hybas_ids\n",
    "    for unique_hybas_id in tqdm(gdf['HYBAS_ID'].unique()):\n",
    "        output_file=f'flood_{_flood_map}_{unique_hybas_id}.geojson'\n",
    "        output_path=Path(output_map_dir) / output_file\n",
    "        # Select rows with the current unique value\n",
    "        subset = gdf[gdf['HYBAS_ID'] == unique_hybas_id]  \n",
    "        # Export the subset as GeoJSON in the output directory\n",
    "        subset.to_file(output_path, driver='GeoJSON')\n",
    "    \n",
    "n_map=0\n",
    "len_file_list=len(file_list)\n",
    "for flood_map in file_list:\n",
    "    n_map+=1\n",
    "    print(f'File {n_map}/{len_file_list}: ',end='')\n",
    "    print(flood_map)\n",
    "    assert Path(flood_map).is_file()\n",
    "    output_map_dir=flood_map.split('.')[0]\n",
    "    flood_map_gdf=gpd.read_file(flood_map)\n",
    "    map_out=split_by_hybas_id(flood_map_gdf, flood_map, output_map_dir)\n",
    "    "
   ]
  },
  {
   "cell_type": "code",
   "execution_count": 4,
   "metadata": {},
   "outputs": [],
   "source": [
    "flood_event=gpd.read_file(r'C:\\Data\\Floods\\Germany\\basin_intersections\\DERP_RW_M_4326_hybas_intersections\\flood_DERP_RW_M_4326_2080410430.geojson')"
   ]
  },
  {
   "cell_type": "code",
   "execution_count": 5,
   "metadata": {},
   "outputs": [
    {
     "data": {
      "text/html": [
       "<div>\n",
       "<style scoped>\n",
       "    .dataframe tbody tr th:only-of-type {\n",
       "        vertical-align: middle;\n",
       "    }\n",
       "\n",
       "    .dataframe tbody tr th {\n",
       "        vertical-align: top;\n",
       "    }\n",
       "\n",
       "    .dataframe thead th {\n",
       "        text-align: right;\n",
       "    }\n",
       "</style>\n",
       "<table border=\"1\" class=\"dataframe\">\n",
       "  <thead>\n",
       "    <tr style=\"text-align: right;\">\n",
       "      <th></th>\n",
       "      <th>flood_area</th>\n",
       "      <th>depth_class</th>\n",
       "      <th>w_depth_l</th>\n",
       "      <th>w_depth_m</th>\n",
       "      <th>w_depth_u</th>\n",
       "      <th>HYBAS_ID</th>\n",
       "      <th>NEXT_DOWN</th>\n",
       "      <th>NEXT_SINK</th>\n",
       "      <th>MAIN_BAS</th>\n",
       "      <th>DIST_SINK</th>\n",
       "      <th>DIST_MAIN</th>\n",
       "      <th>SUB_AREA</th>\n",
       "      <th>UP_AREA</th>\n",
       "      <th>PFAF_ID</th>\n",
       "      <th>ORDER</th>\n",
       "      <th>geometry</th>\n",
       "    </tr>\n",
       "  </thead>\n",
       "  <tbody>\n",
       "    <tr>\n",
       "      <th>0</th>\n",
       "      <td>1</td>\n",
       "      <td>1</td>\n",
       "      <td>0.0</td>\n",
       "      <td>0.25</td>\n",
       "      <td>0.5</td>\n",
       "      <td>2080410430</td>\n",
       "      <td>2080410540</td>\n",
       "      <td>2080023010</td>\n",
       "      <td>2080023010</td>\n",
       "      <td>465.9</td>\n",
       "      <td>465.9</td>\n",
       "      <td>201.7</td>\n",
       "      <td>201.8</td>\n",
       "      <td>23261088</td>\n",
       "      <td>3</td>\n",
       "      <td>MULTIPOLYGON (((7.98655 50.73515, 7.98655 50.7...</td>\n",
       "    </tr>\n",
       "    <tr>\n",
       "      <th>1</th>\n",
       "      <td>1</td>\n",
       "      <td>1</td>\n",
       "      <td>0.0</td>\n",
       "      <td>0.25</td>\n",
       "      <td>0.5</td>\n",
       "      <td>2080410430</td>\n",
       "      <td>2080410540</td>\n",
       "      <td>2080023010</td>\n",
       "      <td>2080023010</td>\n",
       "      <td>465.9</td>\n",
       "      <td>465.9</td>\n",
       "      <td>201.7</td>\n",
       "      <td>201.8</td>\n",
       "      <td>23261088</td>\n",
       "      <td>3</td>\n",
       "      <td>MULTIPOLYGON (((7.90384 50.75885, 7.90384 50.7...</td>\n",
       "    </tr>\n",
       "    <tr>\n",
       "      <th>2</th>\n",
       "      <td>1</td>\n",
       "      <td>2</td>\n",
       "      <td>0.5</td>\n",
       "      <td>0.75</td>\n",
       "      <td>1.0</td>\n",
       "      <td>2080410430</td>\n",
       "      <td>2080410540</td>\n",
       "      <td>2080023010</td>\n",
       "      <td>2080023010</td>\n",
       "      <td>465.9</td>\n",
       "      <td>465.9</td>\n",
       "      <td>201.7</td>\n",
       "      <td>201.8</td>\n",
       "      <td>23261088</td>\n",
       "      <td>3</td>\n",
       "      <td>MULTIPOLYGON (((7.98638 50.73521, 7.98638 50.7...</td>\n",
       "    </tr>\n",
       "    <tr>\n",
       "      <th>3</th>\n",
       "      <td>1</td>\n",
       "      <td>2</td>\n",
       "      <td>0.5</td>\n",
       "      <td>0.75</td>\n",
       "      <td>1.0</td>\n",
       "      <td>2080410430</td>\n",
       "      <td>2080410540</td>\n",
       "      <td>2080023010</td>\n",
       "      <td>2080023010</td>\n",
       "      <td>465.9</td>\n",
       "      <td>465.9</td>\n",
       "      <td>201.7</td>\n",
       "      <td>201.8</td>\n",
       "      <td>23261088</td>\n",
       "      <td>3</td>\n",
       "      <td>MULTIPOLYGON (((7.88675 50.77816, 7.88673 50.7...</td>\n",
       "    </tr>\n",
       "    <tr>\n",
       "      <th>4</th>\n",
       "      <td>1</td>\n",
       "      <td>3</td>\n",
       "      <td>1.0</td>\n",
       "      <td>1.50</td>\n",
       "      <td>2.0</td>\n",
       "      <td>2080410430</td>\n",
       "      <td>2080410540</td>\n",
       "      <td>2080023010</td>\n",
       "      <td>2080023010</td>\n",
       "      <td>465.9</td>\n",
       "      <td>465.9</td>\n",
       "      <td>201.7</td>\n",
       "      <td>201.8</td>\n",
       "      <td>23261088</td>\n",
       "      <td>3</td>\n",
       "      <td>MULTIPOLYGON (((7.98329 50.73633, 7.98327 50.7...</td>\n",
       "    </tr>\n",
       "  </tbody>\n",
       "</table>\n",
       "</div>"
      ],
      "text/plain": [
       "   flood_area  depth_class  w_depth_l  w_depth_m  w_depth_u    HYBAS_ID  \\\n",
       "0           1            1        0.0       0.25        0.5  2080410430   \n",
       "1           1            1        0.0       0.25        0.5  2080410430   \n",
       "2           1            2        0.5       0.75        1.0  2080410430   \n",
       "3           1            2        0.5       0.75        1.0  2080410430   \n",
       "4           1            3        1.0       1.50        2.0  2080410430   \n",
       "\n",
       "    NEXT_DOWN   NEXT_SINK    MAIN_BAS  DIST_SINK  DIST_MAIN  SUB_AREA  \\\n",
       "0  2080410540  2080023010  2080023010      465.9      465.9     201.7   \n",
       "1  2080410540  2080023010  2080023010      465.9      465.9     201.7   \n",
       "2  2080410540  2080023010  2080023010      465.9      465.9     201.7   \n",
       "3  2080410540  2080023010  2080023010      465.9      465.9     201.7   \n",
       "4  2080410540  2080023010  2080023010      465.9      465.9     201.7   \n",
       "\n",
       "   UP_AREA   PFAF_ID  ORDER                                           geometry  \n",
       "0    201.8  23261088      3  MULTIPOLYGON (((7.98655 50.73515, 7.98655 50.7...  \n",
       "1    201.8  23261088      3  MULTIPOLYGON (((7.90384 50.75885, 7.90384 50.7...  \n",
       "2    201.8  23261088      3  MULTIPOLYGON (((7.98638 50.73521, 7.98638 50.7...  \n",
       "3    201.8  23261088      3  MULTIPOLYGON (((7.88675 50.77816, 7.88673 50.7...  \n",
       "4    201.8  23261088      3  MULTIPOLYGON (((7.98329 50.73633, 7.98327 50.7...  "
      ]
     },
     "execution_count": 5,
     "metadata": {},
     "output_type": "execute_result"
    }
   ],
   "source": [
    "flood_event.head()"
   ]
  }
 ],
 "metadata": {
  "kernelspec": {
   "display_name": "osm-flex",
   "language": "python",
   "name": "python3"
  },
  "language_info": {
   "codemirror_mode": {
    "name": "ipython",
    "version": 3
   },
   "file_extension": ".py",
   "mimetype": "text/x-python",
   "name": "python",
   "nbconvert_exporter": "python",
   "pygments_lexer": "ipython3",
   "version": "3.11.7"
  }
 },
 "nbformat": 4,
 "nbformat_minor": 2
}
