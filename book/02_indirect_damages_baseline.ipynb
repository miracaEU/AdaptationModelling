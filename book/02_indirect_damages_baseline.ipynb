{
 "cells": [
  {
   "cell_type": "markdown",
   "metadata": {},
   "source": [
    "## Adaptation of CI - A multi-level approach\n",
    "In this example we demonstrate how adaptations of different levels (hazard-, asset-, network- and system-level) can be appraised based on their cost of adaptation, risk, and benefits of adaptation. This notebook covers the calculation of indirect losses; there is also a notebook for direct damages and a subsequent notebooks for adaptation appraisal.\n",
    "\n",
    "### Adaptation of CI - Indirect losses\n",
    "Using the hazard and assets overlay of the direct damages notebook, this notebook shows how historical freight volumes and passenger ridership are used to calculate indirect losses. The freight losses are calculated using the incremental cost of shipping by road vs rail, while the passenger losses are calculated based on the ticketing revenue loss. Freight and passenger ridership data from Eurostat are used. "
   ]
  },
  {
   "cell_type": "code",
   "execution_count": 67,
   "metadata": {},
   "outputs": [],
   "source": [
    "#ADDITIONAL DEPENDENCIES\n",
    "# !pip install triangle\n",
    "# !pip install rasterio\n",
    "# !pip install geopy\n",
    "# !pip install osmnx"
   ]
  },
  {
   "cell_type": "code",
   "execution_count": 68,
   "metadata": {},
   "outputs": [],
   "source": [
    "import os\n",
    "# os.chdir('path/to/book/directory')\n",
    "# os.chdir('..')\n",
    "from src.ci_adapt_utilities import *\n",
    "import matplotlib.pyplot as plt\n",
    "\n",
    "data_path = Path(os.getcwd() + '/data')\n",
    "interim_data_path = data_path / 'interim' / 'indirect_damages'\n"
   ]
  },
  {
   "cell_type": "markdown",
   "metadata": {},
   "source": [
    "Load default configuration and model parameters"
   ]
  },
  {
   "cell_type": "code",
   "execution_count": 69,
   "metadata": {},
   "outputs": [],
   "source": [
    "# Load configuration with ini file (created running config.py)\n",
    "config_file=Path(os.getcwd() + '/config_ci_adapt_test.ini')\n",
    "hazard_type, infra_type, country_code, country_name, hazard_data_subfolders, asset_data, vulnerability_data = load_config(config_file)"
   ]
  },
  {
   "cell_type": "markdown",
   "metadata": {},
   "source": [
    "Load asset data and transport cost data "
   ]
  },
  {
   "cell_type": "code",
   "execution_count": 70,
   "metadata": {},
   "outputs": [
    {
     "name": "stdout",
     "output_type": "stream",
     "text": [
      "675 assets loaded.\n"
     ]
    }
   ],
   "source": [
    "assets, geom_dict, _, return_period_dict, _, rp_spec_priority, average_road_cost_per_ton_km, average_train_cost_per_ton_km, average_train_load_tons = startup_ci_adapt(data_path, config_file)\n",
    "# Reproject assets to match route data projection\n",
    "assets_4326=assets.to_crs(4326)\n",
    "assets_4326['geometry']=assets_4326['geometry'].make_valid()"
   ]
  },
  {
   "cell_type": "markdown",
   "metadata": {},
   "source": [
    "Load the route data for the area of interest"
   ]
  },
  {
   "cell_type": "code",
   "execution_count": 71,
   "metadata": {},
   "outputs": [
    {
     "data": {
      "text/html": [
       "<div>\n",
       "<style scoped>\n",
       "    .dataframe tbody tr th:only-of-type {\n",
       "        vertical-align: middle;\n",
       "    }\n",
       "\n",
       "    .dataframe tbody tr th {\n",
       "        vertical-align: top;\n",
       "    }\n",
       "\n",
       "    .dataframe thead th {\n",
       "        text-align: right;\n",
       "    }\n",
       "</style>\n",
       "<table border=\"1\" class=\"dataframe\">\n",
       "  <thead>\n",
       "    <tr style=\"text-align: right;\">\n",
       "      <th></th>\n",
       "      <th>From</th>\n",
       "      <th>To</th>\n",
       "      <th>From_Latitude</th>\n",
       "      <th>From_Longitude</th>\n",
       "      <th>To_Latitude</th>\n",
       "      <th>To_Longitude</th>\n",
       "      <th>goods</th>\n",
       "      <th>passengers</th>\n",
       "      <th>Country</th>\n",
       "      <th>geometry_from</th>\n",
       "      <th>geometry_to</th>\n",
       "    </tr>\n",
       "  </thead>\n",
       "  <tbody>\n",
       "    <tr>\n",
       "      <th>3192</th>\n",
       "      <td>Büdesheim-Dromersheim</td>\n",
       "      <td>Bingen (Rhein) Stadt</td>\n",
       "      <td>49.934</td>\n",
       "      <td>7.946</td>\n",
       "      <td>49.971</td>\n",
       "      <td>7.904</td>\n",
       "      <td>1.000</td>\n",
       "      <td>6,078.000</td>\n",
       "      <td>DE</td>\n",
       "      <td>POINT (884511.9871012702 6434834.058730009)</td>\n",
       "      <td>POINT (879858.6676332649 6441241.378778344)</td>\n",
       "    </tr>\n",
       "    <tr>\n",
       "      <th>3250</th>\n",
       "      <td>Bingen (Rhein) Stadt</td>\n",
       "      <td>Büdesheim-Dromersheim</td>\n",
       "      <td>49.971</td>\n",
       "      <td>7.904</td>\n",
       "      <td>49.934</td>\n",
       "      <td>7.946</td>\n",
       "      <td>1.000</td>\n",
       "      <td>5,804.000</td>\n",
       "      <td>DE</td>\n",
       "      <td>POINT (879858.6676332649 6441241.378778344)</td>\n",
       "      <td>POINT (884511.9871012702 6434834.058730009)</td>\n",
       "    </tr>\n",
       "    <tr>\n",
       "      <th>4044</th>\n",
       "      <td>Langenlonsheim</td>\n",
       "      <td>Stromberg (Hunsrück)</td>\n",
       "      <td>49.903</td>\n",
       "      <td>7.901</td>\n",
       "      <td>49.947</td>\n",
       "      <td>7.769</td>\n",
       "      <td>2.000</td>\n",
       "      <td>0.000</td>\n",
       "      <td>DE</td>\n",
       "      <td>POINT (879497.2043410999 6429427.441768809)</td>\n",
       "      <td>POINT (864887.3582970536 6437118.144174217)</td>\n",
       "    </tr>\n",
       "  </tbody>\n",
       "</table>\n",
       "</div>"
      ],
      "text/plain": [
       "                       From                     To From_Latitude  \\\n",
       "3192  Büdesheim-Dromersheim   Bingen (Rhein) Stadt        49.934   \n",
       "3250   Bingen (Rhein) Stadt  Büdesheim-Dromersheim        49.971   \n",
       "4044         Langenlonsheim   Stromberg (Hunsrück)        49.903   \n",
       "\n",
       "      From_Longitude To_Latitude To_Longitude  goods  passengers Country  \\\n",
       "3192           7.946      49.971        7.904  1.000   6,078.000      DE   \n",
       "3250           7.904      49.934        7.946  1.000   5,804.000      DE   \n",
       "4044           7.901      49.947        7.769  2.000       0.000      DE   \n",
       "\n",
       "                                    geometry_from  \\\n",
       "3192  POINT (884511.9871012702 6434834.058730009)   \n",
       "3250  POINT (879858.6676332649 6441241.378778344)   \n",
       "4044  POINT (879497.2043410999 6429427.441768809)   \n",
       "\n",
       "                                      geometry_to  \n",
       "3192  POINT (879858.6676332649 6441241.378778344)  \n",
       "3250  POINT (884511.9871012702 6434834.058730009)  \n",
       "4044  POINT (864887.3582970536 6437118.144174217)  "
      ]
     },
     "execution_count": 71,
     "metadata": {},
     "output_type": "execute_result"
    }
   ],
   "source": [
    "# Load route data\n",
    "route_data_source=data_path/r'input\\traffic\\NET_SEGMENTS_EU_EFTA_Filtered_0.xlsx'\n",
    "route_data=prepare_route_data(route_data_source, assets)\n",
    "route_data.head(3)"
   ]
  },
  {
   "cell_type": "markdown",
   "metadata": {},
   "source": [
    "Create the rail network and graph"
   ]
  },
  {
   "cell_type": "code",
   "execution_count": 72,
   "metadata": {},
   "outputs": [],
   "source": [
    "# Prepare network to create graph\n",
    "from snkit.network import *\n",
    "from src.network_functions import _network_to_nx\n",
    "\n",
    "net=Network(edges=assets_4326)\n",
    "net=add_endpoints(network=net)\n",
    "net=link_nodes_to_edges_within(network=net, distance=0.0000014)\n",
    "net=add_ids(network=net)\n",
    "net=add_topology(network=net)\n",
    "net.set_crs(4326)\n",
    "net.edges=net.edges.to_crs(3857)\n",
    "net.nodes=net.nodes.to_crs(3857)\n",
    "\n",
    "# Create graph from network\n",
    "merged_rail_graph = _network_to_nx(net)\n",
    "\n",
    "# Create a MultiDiGraph from the graph\n",
    "graph_0=nx.MultiDiGraph(merged_rail_graph)"
   ]
  },
  {
   "cell_type": "markdown",
   "metadata": {},
   "source": [
    "Add weights based on railway length and find the shortest paths for all each origin/destination pair"
   ]
  },
  {
   "cell_type": "code",
   "execution_count": 73,
   "metadata": {},
   "outputs": [
    {
     "name": "stdout",
     "output_type": "stream",
     "text": [
      "Possible terminals: 716\n",
      "Failed to find paths for 0 routes\n"
     ]
    }
   ],
   "source": [
    "# Removing floats from osm_id\n",
    "for u,v,k,attr in graph_0.edges(keys=True, data=True):\n",
    "    if type(attr['osm_id'])==type(float()):\n",
    "        graph_0[u][v][k]['osm_id'] = ''\n",
    "# Set weights for edges\n",
    "graph_0 = set_edge_weights(assets, graph_0)\n",
    "graph_0, shortest_paths = find_shortest_paths_capacities(graph_0, route_data, simplified=True)"
   ]
  },
  {
   "cell_type": "markdown",
   "metadata": {},
   "source": [
    "Create parallel \"virtual\" graph to reroute isolated trips"
   ]
  },
  {
   "cell_type": "code",
   "execution_count": 74,
   "metadata": {},
   "outputs": [
    {
     "name": "stdout",
     "output_type": "stream",
     "text": [
      "Creating virtual graph...\n",
      "Success: only int type values\n"
     ]
    }
   ],
   "source": [
    "# Create initial virtual graph\n",
    "graph_v0=create_virtual_graph(graph_0)\n",
    "graph_v=graph_v0.copy()"
   ]
  },
  {
   "cell_type": "markdown",
   "metadata": {},
   "source": [
    "Load direct damage results and find the indirect impacts for each basin (local flooding)"
   ]
  },
  {
   "cell_type": "code",
   "execution_count": 75,
   "metadata": {},
   "outputs": [
    {
     "name": "stdout",
     "output_type": "stream",
     "text": [
      "Disrupted edges: 26\n",
      "Calculating economic impact...\n",
      "flood_DERP_RW_H_4326_2080430240 (5427421.889182759, 2820390.5045673745, 2607031.3846153845)\n",
      "Disrupted edges: 24\n",
      "Calculating economic impact...\n",
      "flood_DERP_RW_H_4326_2080430320 (1711264.6439201704, 47212.41315093989, 1664052.2307692305)\n",
      "Disrupted edges: 98\n",
      "Calculating economic impact...\n",
      "flood_DERP_RW_L_4326_2080428500 (74788268.74428403, 47059358.74428403, 27728910.000000004)\n",
      "Disrupted edges: 60\n",
      "Calculating economic impact...\n",
      "flood_DERP_RW_L_4326_2080430240 (54274218.89182758, 28203905.04567374, 26070313.846153848)\n",
      "Disrupted edges: 78\n",
      "Calculating economic impact...\n",
      "flood_DERP_RW_L_4326_2080430320 (30944709.817721482, 14304187.510029174, 16640522.307692308)\n",
      "Disrupted edges: 50\n",
      "Calculating economic impact...\n",
      "flood_DERP_RW_M_4326_2080430240 (10854843.778365519, 5640781.009134749, 5214062.769230769)\n",
      "Disrupted edges: 60\n",
      "Calculating economic impact...\n",
      "flood_DERP_RW_M_4326_2080430320 (6188941.963544296, 2860837.5020058355, 3328104.461538461)\n"
     ]
    }
   ],
   "source": [
    "# Load direct damages results\n",
    "if 'collect_output' not in locals():\n",
    "    collect_output_path = data_path/'interim/collected_flood_runs/sample_collected_run.pkl'\n",
    "    with open(collect_output_path, 'rb') as f:\n",
    "        collect_output = pickle.load(f)\n",
    "\n",
    "# Loop through the event files and calculate the economic impact of each event\n",
    "disrupted_asset_lengths={}\n",
    "disrupted_shortest_paths={}\n",
    "event_impacts={}\n",
    "event_impacts_breakdown={}\n",
    "disrupted_edges_by_basin={}\n",
    "\n",
    "for hazard_map, asset_dict in collect_output.items():\n",
    "    disrupted_assets = [key for key in asset_dict.keys()]\n",
    "    disrupted_osm_ids = [\n",
    "        assets.loc[asset_index]['osm_id'] \n",
    "        for asset_index in disrupted_assets \n",
    "        if asset_index in assets.index and (\n",
    "            (assets.loc[asset_index]['bridge'] != 'yes') \n",
    "            and (assets.loc[asset_index]['tunnel'] != 'yes')\n",
    "            and (assets.loc[asset_index]['osm_id'] is not None)\n",
    "            )\n",
    "        ]\n",
    "    if len(disrupted_osm_ids)==0:\n",
    "        continue\n",
    "\n",
    "    disrupted_edges=[]\n",
    "    \n",
    "    for u,v,attr in graph_0.edges(data=True):\n",
    "        if 'osm_id' not in attr: \n",
    "            continue\n",
    "        if attr['bridge']=='yes' or attr['tunnel']=='yes':\n",
    "            continue\n",
    "        matching_ids=[osm_id for osm_id in attr['osm_id'].split('; ') if osm_id in disrupted_osm_ids]\n",
    "        if len(matching_ids)>0:\n",
    "            disrupted_edges.append((u,v))\n",
    "            \n",
    "    print(f'Disrupted edges: {len(disrupted_edges)}')\n",
    "\n",
    "    # If there are no disrupted edges in the event, move to next event\n",
    "    if len(disrupted_edges)==0:\n",
    "        continue\n",
    "    \n",
    "    disrupted_edges_by_basin[hazard_map]=disrupted_edges\n",
    "    disrupted_shortest_paths[hazard_map]=calculate_new_paths(graph_v0, shortest_paths, disrupted_edges)\n",
    "\n",
    "    if disrupted_shortest_paths[hazard_map] == {}: # No disrupted paths, no economic impact\n",
    "        print(f'No shortest paths disrupted for {hazard_map}. No economic impact.')\n",
    "        continue\n",
    "\n",
    "    print('Calculating economic impact...')\n",
    "    impact=calculate_economic_impact_shortest_paths(hazard_map, graph_v, shortest_paths, disrupted_shortest_paths[hazard_map], average_train_load_tons, average_train_cost_per_ton_km, average_road_cost_per_ton_km)\n",
    "    event_impacts[hazard_map]=impact[0] # Save the total impact\n",
    "    event_impacts_breakdown [hazard_map] = impact # Save the breakdown of the impact\n",
    "    print(hazard_map, impact)"
   ]
  },
  {
   "cell_type": "markdown",
   "metadata": {},
   "source": [
    "Save results for basin floods"
   ]
  },
  {
   "cell_type": "code",
   "execution_count": 76,
   "metadata": {},
   "outputs": [],
   "source": [
    "cols_names=['total_eur', 'freight_eur', 'passengers_eur'] \n",
    "event_impacts_breakdown_df = pd.DataFrame.from_dict(event_impacts_breakdown, orient='index', columns=cols_names)\n",
    "event_impacts_breakdown_df.to_csv(data_path/ 'output' / 'impacts' / 'indirect_losses_basins.csv')"
   ]
  },
  {
   "cell_type": "markdown",
   "metadata": {},
   "source": [
    "Find the indirect impacts from river mainstem flooding"
   ]
  },
  {
   "cell_type": "code",
   "execution_count": 77,
   "metadata": {},
   "outputs": [
    {
     "name": "stdout",
     "output_type": "stream",
     "text": [
      "Number of disrupted edges for flood_DERP_RW_H:  50\n",
      "Calculating shortest paths for:  flood_DERP_RW_H\n",
      "Calculating economic impact...\n",
      "Impact for flood_DERP_RW_H in M Eur: 5.93\n",
      "Number of disrupted edges for flood_DERP_RW_M:  102\n",
      "Calculating shortest paths for:  flood_DERP_RW_M\n",
      "Calculating economic impact...\n",
      "Impact for flood_DERP_RW_M in M Eur: 11.86\n",
      "Number of disrupted edges for flood_DERP_RW_L:  220\n",
      "Calculating shortest paths for:  flood_DERP_RW_L\n",
      "Calculating economic impact...\n",
      "Impact for flood_DERP_RW_L in M Eur: 103.13\n"
     ]
    }
   ],
   "source": [
    "# now repeat collecting all the disrupted edges accross all maps with the same return period\n",
    "all_disrupted_edges={}\n",
    "all_disrupted_shortest_paths={}\n",
    "full_flood_event={}\n",
    "full_flood_event_breakdown={}\n",
    "\n",
    "haz_map_names=['flood_DERP_RW_H', 'flood_DERP_RW_M', 'flood_DERP_RW_L']\n",
    "\n",
    "for haz_map in haz_map_names:\n",
    "    all_disrupted_edges[haz_map]=[]\n",
    "    for key, value in disrupted_edges_by_basin.items():\n",
    "        if haz_map in key:\n",
    "            all_disrupted_edges[haz_map].extend(value)\n",
    "    all_disrupted_edges[haz_map]=list(set(all_disrupted_edges[haz_map]))\n",
    "    print(f'Number of disrupted edges for {haz_map}: ', len(all_disrupted_edges[haz_map]))\n",
    "    print('Calculating shortest paths for: ', haz_map)\n",
    "    all_disrupted_shortest_paths[haz_map]=calculate_new_paths(graph_v0, shortest_paths, all_disrupted_edges[haz_map])\n",
    "\n",
    "    if all_disrupted_shortest_paths[haz_map] == {}: # No disrupted paths, no economic impact\n",
    "        print(f'No shortest paths disrupted for {haz_map}. No economic impact.')\n",
    "        continue\n",
    "\n",
    "    print('Calculating economic impact...')    \n",
    "    impact_breakdown=calculate_economic_impact_shortest_paths(haz_map, graph_v, shortest_paths, all_disrupted_shortest_paths[haz_map], average_train_load_tons, average_train_cost_per_ton_km, average_road_cost_per_ton_km)\n",
    "    full_flood_event_breakdown[haz_map]=impact_breakdown\n",
    "    full_flood_event[haz_map]=impact_breakdown[0]\n",
    "    print(f'Impact for {haz_map} in M Eur: {impact_breakdown[0]/1e6 :.2f}')\n",
    "\n",
    "# save the data\n",
    "full_flood_event_breakdown_df = pd.DataFrame.from_dict(full_flood_event_breakdown, orient='index', columns=cols_names)\n",
    "full_flood_event_breakdown_df.to_csv(data_path/ 'output' / 'impacts' / 'indirect_losses_full_flood_event.csv')\n",
    "\n",
    "with open(interim_data_path / 'all_disrupted_edges.pkl', 'wb') as f:\n",
    "    pickle.dump(all_disrupted_edges, f)\n",
    "with open(interim_data_path / 'full_flood_event.pkl', 'wb') as f:\n",
    "    pickle.dump(full_flood_event, f)\n"
   ]
  },
  {
   "cell_type": "markdown",
   "metadata": {},
   "source": [
    "Visualise indirect losses and calculate risk"
   ]
  },
  {
   "cell_type": "code",
   "execution_count": 78,
   "metadata": {},
   "outputs": [
    {
     "data": {
      "text/html": [
       "<div>\n",
       "<style scoped>\n",
       "    .dataframe tbody tr th:only-of-type {\n",
       "        vertical-align: middle;\n",
       "    }\n",
       "\n",
       "    .dataframe tbody tr th {\n",
       "        vertical-align: top;\n",
       "    }\n",
       "\n",
       "    .dataframe thead th {\n",
       "        text-align: right;\n",
       "    }\n",
       "</style>\n",
       "<table border=\"1\" class=\"dataframe\">\n",
       "  <thead>\n",
       "    <tr style=\"text-align: right;\">\n",
       "      <th></th>\n",
       "      <th>_H_</th>\n",
       "      <th>_L_</th>\n",
       "      <th>_M_</th>\n",
       "    </tr>\n",
       "  </thead>\n",
       "  <tbody>\n",
       "    <tr>\n",
       "      <th>2080430240</th>\n",
       "      <td>5,427,421.889</td>\n",
       "      <td>54,274,218.892</td>\n",
       "      <td>10,854,843.778</td>\n",
       "    </tr>\n",
       "    <tr>\n",
       "      <th>2080428500</th>\n",
       "      <td>0.000</td>\n",
       "      <td>74,788,268.744</td>\n",
       "      <td>0.000</td>\n",
       "    </tr>\n",
       "    <tr>\n",
       "      <th>2080430320</th>\n",
       "      <td>1,711,264.644</td>\n",
       "      <td>30,944,709.818</td>\n",
       "      <td>6,188,941.964</td>\n",
       "    </tr>\n",
       "  </tbody>\n",
       "</table>\n",
       "</div>"
      ],
      "text/plain": [
       "                     _H_            _L_            _M_\n",
       "2080430240 5,427,421.889 54,274,218.892 10,854,843.778\n",
       "2080428500         0.000 74,788,268.744          0.000\n",
       "2080430320 1,711,264.644 30,944,709.818  6,188,941.964"
      ]
     },
     "execution_count": 78,
     "metadata": {},
     "output_type": "execute_result"
    }
   ],
   "source": [
    "files = [file for file in os.listdir(data_path / 'interim/collected_flood_runs') if file.endswith('.pkl') and file.startswith('overlay')]\n",
    "basins_list=list(set([int(file.split('.')[0].split('_')[-1]) for file in files]))\n",
    "basin_dict = {}\n",
    "for basin in basins_list:\n",
    "    basin_dict[basin] = {}\n",
    "    for key in event_impacts.keys():\n",
    "        if not str(basin) in key:\n",
    "            continue\n",
    "        if str(basin) in key:\n",
    "            basin_dict[basin][key.split('_RW')[-1][0:3]] = event_impacts[key]\n",
    "\n",
    "for rp in return_period_dict.keys():\n",
    "    # add rp as a key to all nested dictionaries with 0 as a value if the rp is not already a key\n",
    "    for basin in basin_dict.keys():\n",
    "        if rp not in basin_dict[basin].keys():\n",
    "            basin_dict[basin][rp] = 0\n",
    "\n",
    "basin_dict_df = pd.DataFrame.from_dict(basin_dict, orient='index')\n",
    "basin_dict_df"
   ]
  },
  {
   "cell_type": "code",
   "execution_count": 79,
   "metadata": {},
   "outputs": [],
   "source": [
    "\"\"\"\n",
    "Return period definitions for Rhineland Palatinate (DERP) based on the report by Rauthe M, et al. (2020):\n",
    "_H_=10-25y \n",
    "_M_=100y\n",
    "_L_=200y\n",
    "\"\"\"\n",
    "# Add climate change: calculate the dynamic return periods based on flat increase factors. \n",
    "increase_factor = {\n",
    "    '_H_': 2,\n",
    "    '_M_': 4.21,\n",
    "    '_L_': 5.86\n",
    "} # Mentaschi, et al. (2016) \n",
    "\n",
    "num_years = 100\n",
    "return_periods = calculate_dynamic_return_periods(return_period_dict, num_years, increase_factor)\n",
    "\n",
    "aggregated_df_by_basin = {}\n",
    "ead_by_ts_by_basin = {}\n",
    "\n",
    "for basin, damage_dict in basin_dict.items():\n",
    "    if len(damage_dict) == 0:\n",
    "        continue\n",
    "\n",
    "    aggregated_df_by_basin[basin] = pd.DataFrame.from_dict(damage_dict, orient='index', columns=['Total indirect damage'])\n",
    "    aggregated_df_by_basin[basin]['Return Period'] = [return_periods[index] for index in aggregated_df_by_basin[basin].index]\n",
    "    aggregated_df_by_basin[basin] = aggregated_df_by_basin[basin].sort_values('Return Period', ascending=True)\n",
    "    probabilities = [[1 / rp for rp in ts] for ts in aggregated_df_by_basin[basin]['Return Period']]\n",
    "    aggregated_df_by_basin[basin]['Probability'] = probabilities\n",
    "    dmgs = []\n",
    "\n",
    "    for ts in range(len(probabilities[0])):\n",
    "        dmgs_m = []\n",
    "\n",
    "        for rp in range(len(probabilities)-1):\n",
    "            d_rp= probabilities[rp][ts] - probabilities[rp + 1][ts]\n",
    "            trap_damage_m = 0.5 * (aggregated_df_by_basin[basin]['Total indirect damage'].iloc[rp] + aggregated_df_by_basin[basin]['Total indirect damage'].iloc[rp + 1])\n",
    "            dmgs_m.append(d_rp * trap_damage_m)\n",
    "        \n",
    "        # Add the portion of damages corresponding to the tails of the distribution\n",
    "        d0_rp = probabilities[-1][ts]\n",
    "        damage_m0 = max(aggregated_df_by_basin[basin]['Total indirect damage'])\n",
    "        dmgs_m.append(d0_rp * damage_m0)\n",
    "\n",
    "        d_end_rp = (1/4)-probabilities[0][ts]\n",
    "        damage_m_end = 0.5 * min(aggregated_df_by_basin[basin]['Total indirect damage'])\n",
    "\n",
    "        dmgs_m.append(d_end_rp * damage_m_end)\n",
    "\n",
    "        dmgs.append((sum(dmgs_m)))\n",
    "    \n",
    "    ead_by_ts_by_basin[basin] = pd.DataFrame(dmgs, columns=['Total indirect damage'])\n"
   ]
  },
  {
   "cell_type": "code",
   "execution_count": 80,
   "metadata": {},
   "outputs": [
    {
     "data": {
      "image/png": "[encoded data removed]",
      "text/plain": [
       "<Figure size 640x480 with 1 Axes>"
      ]
     },
     "metadata": {},
     "output_type": "display_data"
    }
   ],
   "source": [
    "# Find total damages by basin over the 100 y period\n",
    "total_damages_by_basin = {basin: ead_by_ts_by_basin[basin].values.sum() for basin in ead_by_ts_by_basin.keys()}\n",
    "\n",
    "#plot the EAD for each basin    \n",
    "for basin, ead_df in ead_by_ts_by_basin.items():\n",
    "    plt.plot(ead_df, label=basin)\n",
    "    plt.legend(title='Basin')\n",
    "    plt.xlabel('Timesteps [year]')\n",
    "    plt.ylabel('EAD [EUR/year]')\n",
    "plt.show()\n",
    "        "
   ]
  },
  {
   "cell_type": "code",
   "execution_count": 81,
   "metadata": {},
   "outputs": [
    {
     "data": {
      "image/png": "[encoded data removed]",
      "text/plain": [
       "<Figure size 640x480 with 2 Axes>"
      ]
     },
     "metadata": {},
     "output_type": "display_data"
    }
   ],
   "source": [
    "def georeference_damages(gdf, damages):\n",
    "    # Initialize 'damage' column to 0\n",
    "    gdf['damage'] = 0\n",
    "    damage_map = {key: value for key, value in damages.items() if key in gdf['HYBAS_ID'].tolist()}\n",
    "    gdf['damage'] = gdf['HYBAS_ID'].map(damage_map).fillna(0)\n",
    "    return gdf\n",
    "\n",
    "# Load basins GeoDataFrame\n",
    "basins_path = data_path / 'Floods' / 'basins' / 'hybas_eu_lev01-12_v1c' / 'hybas_eu_lev08_v1c_valid.shp'\n",
    "basins = gpd.read_file(basins_path)\n",
    "\n",
    "basins_filtered = basins[basins['HYBAS_ID'].isin(basins_list)].copy()\n",
    "\n",
    "ead_gdf = georeference_damages(basins_filtered, total_damages_by_basin)\n",
    "ead_gdf.plot(column='damage', legend=True, cmap='Reds', vmin=0)\n",
    "ead_gdf.to_parquet(data_path / 'output' / 'impacts' / 'indirect_losses_basins.pq')\n",
    "plt.show()"
   ]
  },
  {
   "cell_type": "code",
   "execution_count": 82,
   "metadata": {},
   "outputs": [
    {
     "name": "stdout",
     "output_type": "stream",
     "text": [
      "Data saved to pickle files.\n"
     ]
    }
   ],
   "source": [
    "# save G and shortest paths to pickle files\n",
    "pickle.dump(graph_0, open(interim_data_path / 'graph_0.pkl', 'wb'))\n",
    "pickle.dump(shortest_paths, open(interim_data_path / 'shortest_paths.pkl', 'wb'))\n",
    "pickle.dump(disrupted_edges_by_basin, open(interim_data_path / 'disrupted_edges_by_basin.pkl', 'wb'))\n",
    "pickle.dump(disrupted_shortest_paths, open(interim_data_path / 'disrupted_shortest_paths.pkl', 'wb'))\n",
    "pickle.dump(event_impacts, open(interim_data_path / 'event_impacts.pkl', 'wb'))\n",
    "pickle.dump(ead_gdf, open(interim_data_path / 'ead_gdf.pkl', 'wb'))\n",
    "pickle.dump(ead_by_ts_by_basin, open(interim_data_path / 'ead_by_ts_by_basin.pkl', 'wb'))\n",
    "print('Data saved to pickle files.')\n"
   ]
  }
 ],
 "metadata": {
  "kernelspec": {
   "display_name": "ci_adapt_env",
   "language": "python",
   "name": "python3"
  },
  "language_info": {
   "codemirror_mode": {
    "name": "ipython",
    "version": 3
   },
   "file_extension": ".py",
   "mimetype": "text/x-python",
   "name": "python",
   "nbconvert_exporter": "python",
   "pygments_lexer": "ipython3",
   "version": "3.12.2"
  }
 },
 "nbformat": 4,
 "nbformat_minor": 2
}
